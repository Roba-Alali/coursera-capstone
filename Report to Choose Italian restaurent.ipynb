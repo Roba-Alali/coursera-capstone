{
    "cells": [
        {
            "metadata": {
                "collapsed": true
            },
            "cell_type": "markdown",
            "source": "# Report"
        },
        {
            "metadata": {},
            "cell_type": "markdown",
            "source": "__1- It is lunch time, and you are craving Italian food. So, let's define a query to search for Italian food that is within 500 metres from the Conrad Hotel__"
        },
        {
            "metadata": {},
            "cell_type": "markdown",
            "source": "__2- We are staying at the Conrad hotel. So let's start by converting the Contrad Hotel's address to its latitude and longitude coordinates.__"
        },
        {
            "metadata": {},
            "cell_type": "markdown",
            "source": "__3- We will use Four Square app to get the best Italian food restaurent about 500meters near us, We will make the decision together by exploring all the chech-in places in the client's profile and make similar choice to be satisfied with the result.__"
        },
        {
            "metadata": {},
            "cell_type": "markdown",
            "source": "__4- Four Square Data:\n    We will need data about different venues in different neighbourhoods of that specific borough. In order to gain that information we will use \"Foursquare\" locational information. Foursquare is a location data provider with information about all manner of venues and events within an area of interest. Such information includes venue names, locations, menus and even photos. As such, the foursquare location platform will be used as the sole data source since all the stated required information can be obtained through the API. After finding the list of neighbourhoods, we then connect to the Foursquare API to gather information about venues inside each and every neighbourhood. For each neighbourhood, we have chosen the radius to be 500 meters. The data retrieved from Foursquare contained information of venues within a specified distance of the longitude and latitude of the postcodes. The information obtained per venue as follows: Neighbourhood : Name of the Neighbourhood Neighbourhood Latitude : Latitude of the Neighbourhood Neighbourhood Longitude : Longitude of the Neighbourhood Venue : Name of the Venue Venue Latitude : Latitude of Venue Venue Longitude : Longitude of Venue Venue Category : Category of Venue Based on all the information collected for Italian restauarent, Pizza and Food, we have sufficient data to build our model. We cluster the neighbourhoods together based on similar venue categories. We then present our observations and findings. Using this data, our stakeholders can take the necessary decision.__"
        },
        {
            "metadata": {},
            "cell_type": "code",
            "source": "",
            "execution_count": null,
            "outputs": []
        }
    ],
    "metadata": {
        "kernelspec": {
            "name": "python3",
            "display_name": "Python 3.7",
            "language": "python"
        },
        "language_info": {
            "name": "python",
            "version": "3.7.10",
            "mimetype": "text/x-python",
            "codemirror_mode": {
                "name": "ipython",
                "version": 3
            },
            "pygments_lexer": "ipython3",
            "nbconvert_exporter": "python",
            "file_extension": ".py"
        }
    },
    "nbformat": 4,
    "nbformat_minor": 1
}